{
 "cells": [
  {
   "cell_type": "markdown",
   "id": "620384e2",
   "metadata": {},
   "source": [
    "LangChain Tool\n",
    "```\n",
    "Tool : llm에이전트가 수행할 수 있는 외부기능이나 api를 말함(날씨정보나 웹검색, 계산기)\n",
    "이유 : gpt는 최신정보에 접근할 수 없다. \n",
    "구조 : 이름 설명 함수실행로직\n",
    "툴 호출 방식 : GPT-4 모델은 OpenAI의 함수호출 기능을 통해 툴을 직접 호출할 수 있다.\n",
    "```\n",
    "외부 API 호출 Tool 구현(날씨API, 뉴스API)"
   ]
  },
  {
   "cell_type": "code",
   "execution_count": 24,
   "id": "937f55b2",
   "metadata": {},
   "outputs": [
    {
     "name": "stdout",
     "output_type": "stream",
     "text": [
      "Requirement already satisfied: langchain-core in c:\\users\\playdata\\appdata\\local\\miniconda3\\envs\\llm\\lib\\site-packages (0.3.61)\n",
      "Requirement already satisfied: langchain-openai in c:\\users\\playdata\\appdata\\local\\miniconda3\\envs\\llm\\lib\\site-packages (0.3.18)\n",
      "Requirement already satisfied: openai in c:\\users\\playdata\\appdata\\local\\miniconda3\\envs\\llm\\lib\\site-packages (1.77.0)\n",
      "Requirement already satisfied: python-dotenv in c:\\users\\playdata\\appdata\\local\\miniconda3\\envs\\llm\\lib\\site-packages (1.1.0)\n",
      "Requirement already satisfied: requests in c:\\users\\playdata\\appdata\\local\\miniconda3\\envs\\llm\\lib\\site-packages (2.32.3)\n",
      "Requirement already satisfied: langsmith<0.4,>=0.1.126 in c:\\users\\playdata\\appdata\\local\\miniconda3\\envs\\llm\\lib\\site-packages (from langchain-core) (0.3.42)\n",
      "Requirement already satisfied: tenacity!=8.4.0,<10.0.0,>=8.1.0 in c:\\users\\playdata\\appdata\\local\\miniconda3\\envs\\llm\\lib\\site-packages (from langchain-core) (9.1.2)\n",
      "Requirement already satisfied: jsonpatch<2.0,>=1.33 in c:\\users\\playdata\\appdata\\local\\miniconda3\\envs\\llm\\lib\\site-packages (from langchain-core) (1.33)\n",
      "Requirement already satisfied: PyYAML>=5.3 in c:\\users\\playdata\\appdata\\local\\miniconda3\\envs\\llm\\lib\\site-packages (from langchain-core) (6.0.2)\n",
      "Requirement already satisfied: packaging<25,>=23.2 in c:\\users\\playdata\\appdata\\local\\miniconda3\\envs\\llm\\lib\\site-packages (from langchain-core) (24.2)\n",
      "Requirement already satisfied: typing-extensions>=4.7 in c:\\users\\playdata\\appdata\\local\\miniconda3\\envs\\llm\\lib\\site-packages (from langchain-core) (4.13.2)\n",
      "Requirement already satisfied: pydantic>=2.7.4 in c:\\users\\playdata\\appdata\\local\\miniconda3\\envs\\llm\\lib\\site-packages (from langchain-core) (2.10.3)\n",
      "Requirement already satisfied: jsonpointer>=1.9 in c:\\users\\playdata\\appdata\\local\\miniconda3\\envs\\llm\\lib\\site-packages (from jsonpatch<2.0,>=1.33->langchain-core) (3.0.0)\n",
      "Requirement already satisfied: httpx<1,>=0.23.0 in c:\\users\\playdata\\appdata\\local\\miniconda3\\envs\\llm\\lib\\site-packages (from langsmith<0.4,>=0.1.126->langchain-core) (0.28.1)\n",
      "Requirement already satisfied: orjson<4.0.0,>=3.9.14 in c:\\users\\playdata\\appdata\\local\\miniconda3\\envs\\llm\\lib\\site-packages (from langsmith<0.4,>=0.1.126->langchain-core) (3.10.18)\n",
      "Requirement already satisfied: requests-toolbelt<2.0.0,>=1.0.0 in c:\\users\\playdata\\appdata\\local\\miniconda3\\envs\\llm\\lib\\site-packages (from langsmith<0.4,>=0.1.126->langchain-core) (1.0.0)\n",
      "Requirement already satisfied: zstandard<0.24.0,>=0.23.0 in c:\\users\\playdata\\appdata\\local\\miniconda3\\envs\\llm\\lib\\site-packages (from langsmith<0.4,>=0.1.126->langchain-core) (0.23.0)\n",
      "Requirement already satisfied: charset-normalizer<4,>=2 in c:\\users\\playdata\\appdata\\local\\miniconda3\\envs\\llm\\lib\\site-packages (from requests) (3.3.2)\n",
      "Requirement already satisfied: idna<4,>=2.5 in c:\\users\\playdata\\appdata\\local\\miniconda3\\envs\\llm\\lib\\site-packages (from requests) (3.7)\n",
      "Requirement already satisfied: urllib3<3,>=1.21.1 in c:\\users\\playdata\\appdata\\local\\miniconda3\\envs\\llm\\lib\\site-packages (from requests) (2.4.0)\n",
      "Requirement already satisfied: certifi>=2017.4.17 in c:\\users\\playdata\\appdata\\local\\miniconda3\\envs\\llm\\lib\\site-packages (from requests) (2025.4.26)\n",
      "Requirement already satisfied: anyio in c:\\users\\playdata\\appdata\\local\\miniconda3\\envs\\llm\\lib\\site-packages (from httpx<1,>=0.23.0->langsmith<0.4,>=0.1.126->langchain-core) (4.9.0)\n",
      "Requirement already satisfied: httpcore==1.* in c:\\users\\playdata\\appdata\\local\\miniconda3\\envs\\llm\\lib\\site-packages (from httpx<1,>=0.23.0->langsmith<0.4,>=0.1.126->langchain-core) (1.0.9)\n",
      "Requirement already satisfied: h11>=0.16 in c:\\users\\playdata\\appdata\\local\\miniconda3\\envs\\llm\\lib\\site-packages (from httpcore==1.*->httpx<1,>=0.23.0->langsmith<0.4,>=0.1.126->langchain-core) (0.16.0)\n",
      "Requirement already satisfied: annotated-types>=0.6.0 in c:\\users\\playdata\\appdata\\local\\miniconda3\\envs\\llm\\lib\\site-packages (from pydantic>=2.7.4->langchain-core) (0.6.0)\n",
      "Requirement already satisfied: pydantic-core==2.27.1 in c:\\users\\playdata\\appdata\\local\\miniconda3\\envs\\llm\\lib\\site-packages (from pydantic>=2.7.4->langchain-core) (2.27.1)\n",
      "Requirement already satisfied: tiktoken<1,>=0.7 in c:\\users\\playdata\\appdata\\local\\miniconda3\\envs\\llm\\lib\\site-packages (from langchain-openai) (0.9.0)\n",
      "Requirement already satisfied: distro<2,>=1.7.0 in c:\\users\\playdata\\appdata\\local\\miniconda3\\envs\\llm\\lib\\site-packages (from openai) (1.9.0)\n",
      "Requirement already satisfied: jiter<1,>=0.4.0 in c:\\users\\playdata\\appdata\\local\\miniconda3\\envs\\llm\\lib\\site-packages (from openai) (0.6.1)\n",
      "Requirement already satisfied: sniffio in c:\\users\\playdata\\appdata\\local\\miniconda3\\envs\\llm\\lib\\site-packages (from openai) (1.3.0)\n",
      "Requirement already satisfied: tqdm>4 in c:\\users\\playdata\\appdata\\local\\miniconda3\\envs\\llm\\lib\\site-packages (from openai) (4.67.1)\n",
      "Requirement already satisfied: exceptiongroup>=1.0.2 in c:\\users\\playdata\\appdata\\local\\miniconda3\\envs\\llm\\lib\\site-packages (from anyio->httpx<1,>=0.23.0->langsmith<0.4,>=0.1.126->langchain-core) (1.3.0)\n",
      "Requirement already satisfied: regex>=2022.1.18 in c:\\users\\playdata\\appdata\\local\\miniconda3\\envs\\llm\\lib\\site-packages (from tiktoken<1,>=0.7->langchain-openai) (2024.11.6)\n",
      "Requirement already satisfied: colorama in c:\\users\\playdata\\appdata\\local\\miniconda3\\envs\\llm\\lib\\site-packages (from tqdm>4->openai) (0.4.6)\n",
      "Note: you may need to restart the kernel to use updated packages.\n"
     ]
    }
   ],
   "source": [
    "%pip install langchain-core langchain-openai openai python-dotenv requests"
   ]
  },
  {
   "cell_type": "code",
   "execution_count": 25,
   "id": "862dc622",
   "metadata": {},
   "outputs": [
    {
     "name": "stdout",
     "output_type": "stream",
     "text": [
      "66867\n",
      "647e2\n"
     ]
    }
   ],
   "source": [
    "# .env 로드\n",
    "from dotenv import load_dotenv\n",
    "load_dotenv()\n",
    "import os\n",
    "\n",
    "print(os.getenv(\"OPEN_WEATHER_MAP\")[:5])\n",
    "print(os.getenv(\"NEWSAPI_API_KEY\")[:5])\n"
   ]
  },
  {
   "cell_type": "code",
   "execution_count": 26,
   "id": "2baf4864",
   "metadata": {},
   "outputs": [],
   "source": [
    "# 날씨정보 조회 함수\n",
    "from pydantic import BaseModel, Field\n",
    "\n",
    "# 입력 스키마\n",
    "class WeatherInput(BaseModel):\n",
    "    city: str = Field(description=\"날씨를 조회할 도시 이름(영문)\")\n",
    "\n",
    "def get_weather(city: str) -> str:\n",
    "    import requests\n",
    "    api_key = os.getenv(\"OPEN_WEATHER_MAP\")\n",
    "    url = f\"http://api.openweathermap.org/data/2.5/weather\"\n",
    "    params = {\n",
    "        'q': city,\n",
    "        'appid': api_key,\n",
    "        'units': 'metric',  # 섭씨 온도로 받기\n",
    "        'lang': 'kr',  # 한국어로 응답 받기\n",
    "    }\n",
    "    response = requests.get(url, params=params)\n",
    "    data = response.json()\n",
    "    \n",
    "    if data.get(\"cod\") != 200:\n",
    "        return f\"날씨 정보를 가져오는 데 실패했습니다\"\n",
    "    temp = data['main']['temp']\n",
    "    desc = data['weather'][0]['description']\n",
    "    return f\"{city}의 현재 기온은 {temp}도이며, 날씨는 {desc}입니다.\""
   ]
  },
  {
   "cell_type": "code",
   "execution_count": 27,
   "id": "ada827ae",
   "metadata": {},
   "outputs": [
    {
     "data": {
      "text/plain": [
       "<__main__.MyClass at 0x1dc7e9175e0>"
      ]
     },
     "execution_count": 27,
     "metadata": {},
     "output_type": "execute_result"
    }
   ],
   "source": [
    "# pydantic 모델을 사용하여 입력 검증\n",
    "class WeatherInput(BaseModel):\n",
    "    city: str = Field(description=\"날씨를 조회할 도시 이름(영문)\")\n",
    "\n",
    "class MyClass:\n",
    "    def __init__(self, ab: str):\n",
    "        self.city = ab\n",
    "\n",
    "MyClass(ab=100) # 사용자가 의도한 문자열이 전달되지 않아도 python은 타입에러를 발생시키지 않음 # 블로그\n",
    "# result = WeatherInput(city=100)\n",
    "# result.city"
   ]
  },
  {
   "cell_type": "code",
   "execution_count": 28,
   "id": "617fd024",
   "metadata": {},
   "outputs": [
    {
     "data": {
      "text/plain": [
       "'Seoul의 현재 기온은 24.76도이며, 날씨는 연무입니다.'"
      ]
     },
     "execution_count": 28,
     "metadata": {},
     "output_type": "execute_result"
    }
   ],
   "source": [
    "get_weather(\"Seoul\")"
   ]
  },
  {
   "cell_type": "markdown",
   "id": "fd11dd17",
   "metadata": {},
   "source": [
    "뉴스검색"
   ]
  },
  {
   "cell_type": "code",
   "execution_count": 29,
   "id": "591dbf34",
   "metadata": {},
   "outputs": [],
   "source": [
    "class NewsInput(BaseModel):\n",
    "    keyword: str = Field(description=\"뉴스를 조회할 키워드\")\n",
    "\n",
    "def get_news(keyword: str) -> str:\n",
    "    import requests\n",
    "    api_key = os.getenv(\"NEWSAPI_API_KEY\")\n",
    "    url = \"https://newsapi.org/v2/everything\"\n",
    "    params = {\n",
    "        'q': keyword,\n",
    "        'apiKey': api_key,\n",
    "        'language': 'ko',  # 한국어 뉴스\n",
    "        'sortBy': 'publishedAt',  # 최신 뉴스 우선\n",
    "        'pageSize': 1,  # 최대 n개 뉴스\n",
    "    }\n",
    "    response = requests.get(url, params=params)\n",
    "    data = response.json()\n",
    "    articles = data.get('articles')\n",
    "    if not articles:\n",
    "        return \"뉴스를 찾을 수 없습니다.\"\n",
    "    \n",
    "    # 가장 첫번째 뉴스 선택\n",
    "    top_news = articles[0]\n",
    "    title = top_news.get('title', '제목 없음')\n",
    "    source = top_news.get('source', {}).get('name', '출처 없음')\n",
    "    return f'{keyword}에 대한 최신 뉴스:\"{title}\"(출처: {source})'"
   ]
  },
  {
   "cell_type": "code",
   "execution_count": 30,
   "id": "7e6c89fb",
   "metadata": {},
   "outputs": [
    {
     "name": "stdout",
     "output_type": "stream",
     "text": [
      "OpenAI에 대한 최신 뉴스:\"AI가 대신 쇼핑하고 예약까지…에이전트 경제 시대 온다\"(출처: Zdnet.co.kr)\n"
     ]
    }
   ],
   "source": [
    "print(get_news('OpenAI'))"
   ]
  },
  {
   "cell_type": "markdown",
   "id": "85c5fa1f",
   "metadata": {},
   "source": [
    "LangChain Tool 객체로 변환\n",
    "```\n",
    "get_weather, get_news 함수를 Tool로 등록\n",
    "```"
   ]
  },
  {
   "cell_type": "code",
   "execution_count": 31,
   "id": "a58ac1dd",
   "metadata": {},
   "outputs": [
    {
     "name": "stdout",
     "output_type": "stream",
     "text": [
      "tool 이름: get_weather 설명 : 도시의 현재 날씨 정보를 반환합니다.\n",
      "tool 이름: get_news 설명 : 키워드에 대한 최신 뉴스를 반환합니다.\n"
     ]
    }
   ],
   "source": [
    "from langchain_core.runnables import RunnableLambda\n",
    "# 날씨함수 runnable -> tool로 변환\n",
    "weather_runnable = RunnableLambda(lambda x: get_weather(x['city']))\n",
    "weather_tool = weather_runnable.as_tool(\n",
    "    name=\"get_weather\",\n",
    "    description=\"도시의 현재 날씨 정보를 반환합니다.\",\n",
    "    args_schema=WeatherInput,\n",
    ")\n",
    "news_runnable = RunnableLambda(lambda x: get_news(x['keyword']))\n",
    "news_tool = news_runnable.as_tool(\n",
    "    name=\"get_news\",\n",
    "    description=\"키워드에 대한 최신 뉴스를 반환합니다.\",\n",
    "    args_schema=NewsInput,\n",
    ")\n",
    "print(f'tool 이름: {weather_tool.name} 설명 : {weather_tool.description}')\n",
    "print(f'tool 이름: {news_tool.name} 설명 : {news_tool.description}')"
   ]
  },
  {
   "cell_type": "code",
   "execution_count": 32,
   "id": "7a5829bc",
   "metadata": {},
   "outputs": [
    {
     "name": "stdout",
     "output_type": "stream",
     "text": [
      "현재 서울의 날씨 정보를 실시간으로 제공할 수는 없지만, 일반적으로 서울의 날씨는 계절에 따라 다릅니다. 봄(3월~5월)에는 온화하고 꽃이 피며, 여름(6월~8월)에는 덥고 습합니다. 가을(9월~11월)에는 선선하고 단풍이 아름답고, 겨울(12월~2월)에는 춥고 눈이 내릴 수 있습니다. \n",
      "\n",
      "정확한 날씨 정보를 원하신다면, 기상청 웹사이트나 날씨 앱을 확인해 보시기 바랍니다.\n"
     ]
    }
   ],
   "source": [
    "# 툴없이\n",
    "from langchain_openai import ChatOpenAI\n",
    "# 프롬프트 템플릿\n",
    "from langchain_core.prompts import ChatPromptTemplate\n",
    "# 출력 파서\n",
    "from langchain_core.output_parsers import StrOutputParser\n",
    "user_question = \"서울의 날씨 알려줘\"\n",
    "# 사용자 질문을 처리하는 프롬프트 템플릿\n",
    "user_prompt = ChatPromptTemplate.from_messages([\n",
    "    (\"system\", \"당신은 날씨와 뉴스 정보를 제공하는 AI입니다.\"),\n",
    "    (\"human\", \"{question}\"),\n",
    "])\n",
    "llm = ChatOpenAI(model=\"gpt-4o-mini\", temperature=0.0)\n",
    "chain = user_prompt | llm | StrOutputParser()\n",
    "# 사용자 질문을 처리하는 체인 실행\n",
    "result = chain.invoke({\"question\": user_question})\n",
    "print(result)"
   ]
  },
  {
   "cell_type": "markdown",
   "id": "f5823741",
   "metadata": {},
   "source": [
    "LLM 최종 답변 생성 요청"
   ]
  },
  {
   "cell_type": "code",
   "execution_count": 34,
   "id": "020f0b9d",
   "metadata": {},
   "outputs": [
    {
     "name": "stderr",
     "output_type": "stream",
     "text": [
      "C:\\Users\\Playdata\\AppData\\Local\\Temp\\ipykernel_19924\\244140487.py:13: LangChainDeprecationWarning: The method `BaseChatModel.__call__` was deprecated in langchain-core 0.1.7 and will be removed in 1.0. Use :meth:`~invoke` instead.\n",
      "  result = llm(messages)\n"
     ]
    },
    {
     "name": "stdout",
     "output_type": "stream",
     "text": [
      "현재 서울의 날씨는 연무이며, 기온은 약 24.76도입니다. 날씨가 흐리거나 뿌연 상태일 수 있으니 외출 시 참고하시기 바랍니다.\n"
     ]
    }
   ],
   "source": [
    "from langchain.schema import HumanMessage, AIMessage, SystemMessage\n",
    "# 프롬프트구성 : 시스템메시지 + 사용자 질문 + 결과를 맥락으로 제공\n",
    "weather_info = get_weather(\"Seoul\")\n",
    "system_prompt = '당신은 유용한 AI 어시스턴스입니다. 사용자 질문에 맞게 제공된 정보를 활용해 답변하세요'\n",
    "tool_info_prompt = f\"도구가 제공한 추가 정보:{weather_info}\"\n",
    "ask_prompt = '위 정보를 참고해서 사용자 질문에 답변하세요'\n",
    "messages = [\n",
    "    SystemMessage(content=system_prompt),\n",
    "    HumanMessage(content=user_question),\n",
    "    AIMessage(content=tool_info_prompt), # 도구 결과를 마치 ai의 답변처럼 추가\n",
    "    HumanMessage(content=ask_prompt)\n",
    "]\n",
    "result = llm(messages)\n",
    "print(result.content)\n"
   ]
  },
  {
   "cell_type": "markdown",
   "id": "9530134b",
   "metadata": {},
   "source": [
    "여러 tool을 연결하도록 에이전트 구성"
   ]
  },
  {
   "cell_type": "code",
   "execution_count": null,
   "id": "3f755d8e",
   "metadata": {},
   "outputs": [],
   "source": [
    "# 에이전트를 생성하고 등록\n",
    "from langchain.agents import initialize_agent, AgentType\n",
    "# 앞에서 만든 tool 객체 리스트를 준비\n",
    "tools = [weather_tool, news_tool]"
   ]
  }
 ],
 "metadata": {
  "kernelspec": {
   "display_name": "LLM",
   "language": "python",
   "name": "python3"
  },
  "language_info": {
   "codemirror_mode": {
    "name": "ipython",
    "version": 3
   },
   "file_extension": ".py",
   "mimetype": "text/x-python",
   "name": "python",
   "nbconvert_exporter": "python",
   "pygments_lexer": "ipython3",
   "version": "3.10.16"
  }
 },
 "nbformat": 4,
 "nbformat_minor": 5
}
