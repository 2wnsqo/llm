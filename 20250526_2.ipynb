{
 "cells": [
  {
   "cell_type": "markdown",
   "id": "dcd3d865",
   "metadata": {},
   "source": [
    "```\n",
    "Langchain 을 활용한 모델 사용,비용 모니터링 및 캐싱 전략\n",
    "    GPT-4o-mini  GPT-3.5-Turbo 비용이 60% 저렴\n",
    "    LangChain V0.3x 부터 openAi가 별도 패키지로 분리 필요 패키지를 설치 langchain-openai 필요 \n",
    "    토큰사용량 추적, 캐싱을 위한 langchain-community도 별도설치\n",
    "    환경변수 변수 관리 패키지 python-dotevn\n",
    "```\n"
   ]
  },
  {
   "cell_type": "code",
   "execution_count": 2,
   "id": "a17fb113",
   "metadata": {},
   "outputs": [
    {
     "name": "stdout",
     "output_type": "stream",
     "text": [
      "Requirement already satisfied: langchain-openai in c:\\users\\playdata\\appdata\\local\\miniconda3\\envs\\llm\\lib\\site-packages (0.3.18)\n",
      "Requirement already satisfied: langchain-community in c:\\users\\playdata\\appdata\\local\\miniconda3\\envs\\llm\\lib\\site-packages (0.3.24)\n",
      "Requirement already satisfied: python-dotenv in c:\\users\\playdata\\appdata\\local\\miniconda3\\envs\\llm\\lib\\site-packages (1.1.0)\n",
      "Requirement already satisfied: openai in c:\\users\\playdata\\appdata\\local\\miniconda3\\envs\\llm\\lib\\site-packages (1.77.0)\n",
      "Requirement already satisfied: langchain-core<1.0.0,>=0.3.61 in c:\\users\\playdata\\appdata\\local\\miniconda3\\envs\\llm\\lib\\site-packages (from langchain-openai) (0.3.61)\n",
      "Requirement already satisfied: tiktoken<1,>=0.7 in c:\\users\\playdata\\appdata\\local\\miniconda3\\envs\\llm\\lib\\site-packages (from langchain-openai) (0.9.0)\n",
      "Requirement already satisfied: anyio<5,>=3.5.0 in c:\\users\\playdata\\appdata\\local\\miniconda3\\envs\\llm\\lib\\site-packages (from openai) (4.7.0)\n",
      "Requirement already satisfied: distro<2,>=1.7.0 in c:\\users\\playdata\\appdata\\local\\miniconda3\\envs\\llm\\lib\\site-packages (from openai) (1.9.0)\n",
      "Requirement already satisfied: httpx<1,>=0.23.0 in c:\\users\\playdata\\appdata\\local\\miniconda3\\envs\\llm\\lib\\site-packages (from openai) (0.28.1)\n",
      "Requirement already satisfied: jiter<1,>=0.4.0 in c:\\users\\playdata\\appdata\\local\\miniconda3\\envs\\llm\\lib\\site-packages (from openai) (0.6.1)\n",
      "Requirement already satisfied: pydantic<3,>=1.9.0 in c:\\users\\playdata\\appdata\\local\\miniconda3\\envs\\llm\\lib\\site-packages (from openai) (2.10.3)\n",
      "Requirement already satisfied: sniffio in c:\\users\\playdata\\appdata\\local\\miniconda3\\envs\\llm\\lib\\site-packages (from openai) (1.3.0)\n",
      "Requirement already satisfied: tqdm>4 in c:\\users\\playdata\\appdata\\local\\miniconda3\\envs\\llm\\lib\\site-packages (from openai) (4.67.1)\n",
      "Requirement already satisfied: typing-extensions<5,>=4.11 in c:\\users\\playdata\\appdata\\local\\miniconda3\\envs\\llm\\lib\\site-packages (from openai) (4.12.2)\n",
      "Requirement already satisfied: exceptiongroup>=1.0.2 in c:\\users\\playdata\\appdata\\local\\miniconda3\\envs\\llm\\lib\\site-packages (from anyio<5,>=3.5.0->openai) (1.3.0)\n",
      "Requirement already satisfied: idna>=2.8 in c:\\users\\playdata\\appdata\\local\\miniconda3\\envs\\llm\\lib\\site-packages (from anyio<5,>=3.5.0->openai) (3.7)\n",
      "Requirement already satisfied: certifi in c:\\users\\playdata\\appdata\\local\\miniconda3\\envs\\llm\\lib\\site-packages (from httpx<1,>=0.23.0->openai) (2025.4.26)\n",
      "Requirement already satisfied: httpcore==1.* in c:\\users\\playdata\\appdata\\local\\miniconda3\\envs\\llm\\lib\\site-packages (from httpx<1,>=0.23.0->openai) (1.0.2)\n",
      "Requirement already satisfied: h11<0.15,>=0.13 in c:\\users\\playdata\\appdata\\local\\miniconda3\\envs\\llm\\lib\\site-packages (from httpcore==1.*->httpx<1,>=0.23.0->openai) (0.14.0)\n",
      "Requirement already satisfied: langsmith<0.4,>=0.1.126 in c:\\users\\playdata\\appdata\\local\\miniconda3\\envs\\llm\\lib\\site-packages (from langchain-core<1.0.0,>=0.3.61->langchain-openai) (0.3.42)\n",
      "Requirement already satisfied: tenacity!=8.4.0,<10.0.0,>=8.1.0 in c:\\users\\playdata\\appdata\\local\\miniconda3\\envs\\llm\\lib\\site-packages (from langchain-core<1.0.0,>=0.3.61->langchain-openai) (9.1.2)\n",
      "Requirement already satisfied: jsonpatch<2.0,>=1.33 in c:\\users\\playdata\\appdata\\local\\miniconda3\\envs\\llm\\lib\\site-packages (from langchain-core<1.0.0,>=0.3.61->langchain-openai) (1.33)\n",
      "Requirement already satisfied: PyYAML>=5.3 in c:\\users\\playdata\\appdata\\local\\miniconda3\\envs\\llm\\lib\\site-packages (from langchain-core<1.0.0,>=0.3.61->langchain-openai) (6.0.2)\n",
      "Requirement already satisfied: packaging<25,>=23.2 in c:\\users\\playdata\\appdata\\local\\miniconda3\\envs\\llm\\lib\\site-packages (from langchain-core<1.0.0,>=0.3.61->langchain-openai) (24.2)\n",
      "Requirement already satisfied: jsonpointer>=1.9 in c:\\users\\playdata\\appdata\\local\\miniconda3\\envs\\llm\\lib\\site-packages (from jsonpatch<2.0,>=1.33->langchain-core<1.0.0,>=0.3.61->langchain-openai) (3.0.0)\n",
      "Requirement already satisfied: orjson<4.0.0,>=3.9.14 in c:\\users\\playdata\\appdata\\local\\miniconda3\\envs\\llm\\lib\\site-packages (from langsmith<0.4,>=0.1.126->langchain-core<1.0.0,>=0.3.61->langchain-openai) (3.10.18)\n",
      "Requirement already satisfied: requests<3,>=2 in c:\\users\\playdata\\appdata\\local\\miniconda3\\envs\\llm\\lib\\site-packages (from langsmith<0.4,>=0.1.126->langchain-core<1.0.0,>=0.3.61->langchain-openai) (2.32.3)\n",
      "Requirement already satisfied: requests-toolbelt<2.0.0,>=1.0.0 in c:\\users\\playdata\\appdata\\local\\miniconda3\\envs\\llm\\lib\\site-packages (from langsmith<0.4,>=0.1.126->langchain-core<1.0.0,>=0.3.61->langchain-openai) (1.0.0)\n",
      "Requirement already satisfied: zstandard<0.24.0,>=0.23.0 in c:\\users\\playdata\\appdata\\local\\miniconda3\\envs\\llm\\lib\\site-packages (from langsmith<0.4,>=0.1.126->langchain-core<1.0.0,>=0.3.61->langchain-openai) (0.23.0)\n",
      "Requirement already satisfied: annotated-types>=0.6.0 in c:\\users\\playdata\\appdata\\local\\miniconda3\\envs\\llm\\lib\\site-packages (from pydantic<3,>=1.9.0->openai) (0.6.0)\n",
      "Requirement already satisfied: pydantic-core==2.27.1 in c:\\users\\playdata\\appdata\\local\\miniconda3\\envs\\llm\\lib\\site-packages (from pydantic<3,>=1.9.0->openai) (2.27.1)\n",
      "Requirement already satisfied: charset-normalizer<4,>=2 in c:\\users\\playdata\\appdata\\local\\miniconda3\\envs\\llm\\lib\\site-packages (from requests<3,>=2->langsmith<0.4,>=0.1.126->langchain-core<1.0.0,>=0.3.61->langchain-openai) (3.3.2)\n",
      "Requirement already satisfied: urllib3<3,>=1.21.1 in c:\\users\\playdata\\appdata\\local\\miniconda3\\envs\\llm\\lib\\site-packages (from requests<3,>=2->langsmith<0.4,>=0.1.126->langchain-core<1.0.0,>=0.3.61->langchain-openai) (2.3.0)\n",
      "Requirement already satisfied: regex>=2022.1.18 in c:\\users\\playdata\\appdata\\local\\miniconda3\\envs\\llm\\lib\\site-packages (from tiktoken<1,>=0.7->langchain-openai) (2024.11.6)\n",
      "Requirement already satisfied: langchain<1.0.0,>=0.3.25 in c:\\users\\playdata\\appdata\\local\\miniconda3\\envs\\llm\\lib\\site-packages (from langchain-community) (0.3.25)\n",
      "Requirement already satisfied: SQLAlchemy<3,>=1.4 in c:\\users\\playdata\\appdata\\local\\miniconda3\\envs\\llm\\lib\\site-packages (from langchain-community) (2.0.41)\n",
      "Requirement already satisfied: aiohttp<4.0.0,>=3.8.3 in c:\\users\\playdata\\appdata\\local\\miniconda3\\envs\\llm\\lib\\site-packages (from langchain-community) (3.11.18)\n",
      "Requirement already satisfied: dataclasses-json<0.7,>=0.5.7 in c:\\users\\playdata\\appdata\\local\\miniconda3\\envs\\llm\\lib\\site-packages (from langchain-community) (0.6.7)\n",
      "Requirement already satisfied: pydantic-settings<3.0.0,>=2.4.0 in c:\\users\\playdata\\appdata\\local\\miniconda3\\envs\\llm\\lib\\site-packages (from langchain-community) (2.9.1)\n",
      "Requirement already satisfied: httpx-sse<1.0.0,>=0.4.0 in c:\\users\\playdata\\appdata\\local\\miniconda3\\envs\\llm\\lib\\site-packages (from langchain-community) (0.4.0)\n",
      "Requirement already satisfied: numpy>=1.26.2 in c:\\users\\playdata\\appdata\\local\\miniconda3\\envs\\llm\\lib\\site-packages (from langchain-community) (2.2.5)\n",
      "Requirement already satisfied: aiohappyeyeballs>=2.3.0 in c:\\users\\playdata\\appdata\\local\\miniconda3\\envs\\llm\\lib\\site-packages (from aiohttp<4.0.0,>=3.8.3->langchain-community) (2.6.1)\n",
      "Requirement already satisfied: aiosignal>=1.1.2 in c:\\users\\playdata\\appdata\\local\\miniconda3\\envs\\llm\\lib\\site-packages (from aiohttp<4.0.0,>=3.8.3->langchain-community) (1.3.2)\n",
      "Requirement already satisfied: async-timeout<6.0,>=4.0 in c:\\users\\playdata\\appdata\\local\\miniconda3\\envs\\llm\\lib\\site-packages (from aiohttp<4.0.0,>=3.8.3->langchain-community) (4.0.3)\n",
      "Requirement already satisfied: attrs>=17.3.0 in c:\\users\\playdata\\appdata\\local\\miniconda3\\envs\\llm\\lib\\site-packages (from aiohttp<4.0.0,>=3.8.3->langchain-community) (25.3.0)\n",
      "Requirement already satisfied: frozenlist>=1.1.1 in c:\\users\\playdata\\appdata\\local\\miniconda3\\envs\\llm\\lib\\site-packages (from aiohttp<4.0.0,>=3.8.3->langchain-community) (1.6.0)\n",
      "Requirement already satisfied: multidict<7.0,>=4.5 in c:\\users\\playdata\\appdata\\local\\miniconda3\\envs\\llm\\lib\\site-packages (from aiohttp<4.0.0,>=3.8.3->langchain-community) (6.4.3)\n",
      "Requirement already satisfied: propcache>=0.2.0 in c:\\users\\playdata\\appdata\\local\\miniconda3\\envs\\llm\\lib\\site-packages (from aiohttp<4.0.0,>=3.8.3->langchain-community) (0.3.1)\n",
      "Requirement already satisfied: yarl<2.0,>=1.17.0 in c:\\users\\playdata\\appdata\\local\\miniconda3\\envs\\llm\\lib\\site-packages (from aiohttp<4.0.0,>=3.8.3->langchain-community) (1.20.0)\n",
      "Requirement already satisfied: marshmallow<4.0.0,>=3.18.0 in c:\\users\\playdata\\appdata\\local\\miniconda3\\envs\\llm\\lib\\site-packages (from dataclasses-json<0.7,>=0.5.7->langchain-community) (3.26.1)\n",
      "Requirement already satisfied: typing-inspect<1,>=0.4.0 in c:\\users\\playdata\\appdata\\local\\miniconda3\\envs\\llm\\lib\\site-packages (from dataclasses-json<0.7,>=0.5.7->langchain-community) (0.9.0)\n",
      "Requirement already satisfied: langchain-text-splitters<1.0.0,>=0.3.8 in c:\\users\\playdata\\appdata\\local\\miniconda3\\envs\\llm\\lib\\site-packages (from langchain<1.0.0,>=0.3.25->langchain-community) (0.3.8)\n",
      "Requirement already satisfied: typing-inspection>=0.4.0 in c:\\users\\playdata\\appdata\\local\\miniconda3\\envs\\llm\\lib\\site-packages (from pydantic-settings<3.0.0,>=2.4.0->langchain-community) (0.4.1)\n",
      "Requirement already satisfied: greenlet>=1 in c:\\users\\playdata\\appdata\\local\\miniconda3\\envs\\llm\\lib\\site-packages (from SQLAlchemy<3,>=1.4->langchain-community) (3.2.2)\n",
      "Requirement already satisfied: mypy-extensions>=0.3.0 in c:\\users\\playdata\\appdata\\local\\miniconda3\\envs\\llm\\lib\\site-packages (from typing-inspect<1,>=0.4.0->dataclasses-json<0.7,>=0.5.7->langchain-community) (1.1.0)\n",
      "Requirement already satisfied: colorama in c:\\users\\playdata\\appdata\\local\\miniconda3\\envs\\llm\\lib\\site-packages (from tqdm>4->openai) (0.4.6)\n",
      "Note: you may need to restart the kernel to use updated packages.\n"
     ]
    }
   ],
   "source": [
    "%pip install langchain-openai langchain-community python-dotenv openai"
   ]
  },
  {
   "cell_type": "code",
   "execution_count": 3,
   "id": "ead6e885",
   "metadata": {},
   "outputs": [
    {
     "data": {
      "text/plain": [
       "True"
      ]
     },
     "execution_count": 3,
     "metadata": {},
     "output_type": "execute_result"
    }
   ],
   "source": [
    "from dotenv import load_dotenv\n",
    "load_dotenv()"
   ]
  },
  {
   "cell_type": "code",
   "execution_count": 4,
   "id": "da1fa956",
   "metadata": {},
   "outputs": [
    {
     "data": {
      "text/plain": [
       "'LangChain은 다양한 언어 모델과 데이터 소스를 연결하여 자연어 처리 애플리케이션을 구축할 수 있도록 돕는 프레임워크입니다.'"
      ]
     },
     "execution_count": 4,
     "metadata": {},
     "output_type": "execute_result"
    }
   ],
   "source": [
    "from langchain_openai import ChatOpenAI\n",
    "llm = ChatOpenAI(model='gpt-4o-mini',temperature=0.7)  # dotenv 를 하면 자동으로 OPENAI_API_KEY 참조\n",
    "prompt = 'LangChain에 대해 한 문장으로 설명해줘'\n",
    "result = llm.invoke(prompt)\n",
    "result.content"
   ]
  },
  {
   "cell_type": "code",
   "execution_count": 5,
   "id": "23d99cef",
   "metadata": {},
   "outputs": [
    {
     "data": {
      "text/plain": [
       "{'input_tokens': 18,\n",
       " 'output_tokens': 35,\n",
       " 'total_tokens': 53,\n",
       " 'input_token_details': {'audio': 0, 'cache_read': 0},\n",
       " 'output_token_details': {'audio': 0, 'reasoning': 0}}"
      ]
     },
     "execution_count": 5,
     "metadata": {},
     "output_type": "execute_result"
    }
   ],
   "source": [
    "#사용량\n",
    "result.usage_metadata"
   ]
  },
  {
   "cell_type": "code",
   "execution_count": 6,
   "id": "e6f35810",
   "metadata": {},
   "outputs": [
    {
     "name": "stdout",
     "output_type": "stream",
     "text": [
      "응답1 죄송하지만, 실시간 ...\n",
      "응답2 LangChain은 ...\n",
      "총 토큰수: 737\n",
      "프롬프트 토큰수: 39\n",
      "응답 토큰수: 698\n",
      "비용(USD): 0.00042464999999999994\n"
     ]
    }
   ],
   "source": [
    "# 콜벡함수를 통한 누적 토큰 추적(get_openai_callback)\n",
    "from langchain_community.callbacks import get_openai_callback\n",
    "with get_openai_callback() as cb:\n",
    "    # 첫번째 호출\n",
    "    res1 = llm.invoke('서울의 오늘 날씨는 어떤지 알려줘?')\n",
    "    print('응답1', res1.content[:10],'...')\n",
    "    # 두번째 호출\n",
    "    res2 = llm.invoke('파이썬으로 랭체인 사용법을 알려줘')\n",
    "    print('응답2', res2.content[:10],'...')\n",
    "\n",
    "# 누적 토큰 사용량 출력  콜백 cb에는 블록 내 전체 토큰 사용량이 누적\n",
    "# 총 토큰수\n",
    "print('총 토큰수:', cb.total_tokens)\n",
    "# 프롬프트 토큰수\n",
    "print('프롬프트 토큰수:', cb.prompt_tokens)\n",
    "# 응답 토큰수\n",
    "print('응답 토큰수:', cb.completion_tokens)\n",
    "# 비용 계산\n",
    "print('비용(USD):', cb.total_cost)\n"
   ]
  },
  {
   "cell_type": "code",
   "execution_count": null,
   "id": "d20b8c04",
   "metadata": {},
   "outputs": [],
   "source": [
    "# LangChain의 LLM 응답캐싱 (InMemory Cache, SQLiteCache)\n",
    "# 동일한 질문은 저장해 뒀다가 응답에 사용\n",
    "from langchain_core.caches import InMemoryCache\n",
    "from langchain_core.globals import set_llm_cache\n",
    "# InMemoryCache 설정\n",
    "set_llm_cache(InMemoryCache()) # 캐시 기능 키기 # 블로그 "
   ]
  },
  {
   "cell_type": "code",
   "execution_count": 9,
   "id": "0e706b8a",
   "metadata": {},
   "outputs": [
    {
     "name": "stdout",
     "output_type": "stream",
     "text": [
      "응답1: 물론이죠! 다음과 같은 유머는 어떨까요?\n",
      "\n",
      "왜 컴퓨터는 바다에 빠지지 않을까요?\n",
      "\n",
      "왜냐하면 네트워크가 있기 때문이죠! \n",
      "\n",
      "(이 유머는 '네트워크'와 '물'의 연결을 이용한 말장난입니다!)\n",
      "####################################################################################################\n",
      "응답2: 물론이죠! 다음과 같은 유머는 어떨까요?\n",
      "\n",
      "왜 컴퓨터는 바다에 빠지지 않을까요?\n",
      "\n",
      "왜냐하면 네트워크가 있기 때문이죠! \n",
      "\n",
      "(이 유머는 '네트워크'와 '물'의 연결을 이용한 말장난입니다!)\n"
     ]
    }
   ],
   "source": [
    "# 캐시 사용 전후를 비교, 같은 질문을 두번 호출\n",
    "query = \"재미있는 유머 하나 알려줘\"\n",
    "# 첫번째 호출(캐시에 없으면 api 호출 발생)\n",
    "result1 = llm.invoke(query)\n",
    "print(\"응답1:\", result1.content)\n",
    "print('#'*100)\n",
    "# 두번째 호출(동일한 query, 캐시를 확인하고 동일 질문이면 api 미호출)\n",
    "result2 = llm.invoke(query) # query가 한글자라도 다르면 캐시 미사용한다 # 블로그 \n",
    "print(\"응답2:\", result2.content)\n"
   ]
  },
  {
   "cell_type": "code",
   "execution_count": 11,
   "id": "70faa7a2",
   "metadata": {},
   "outputs": [
    {
     "name": "stdout",
     "output_type": "stream",
     "text": [
      "첫 번째 호출 시간: 4.35541844367981\n",
      "두 번째 호출 시간: 0.0\n"
     ]
    }
   ],
   "source": [
    "# 실행시간 측정\n",
    "import time\n",
    "# 첫 번째 호출 시간\n",
    "query = \"점심메뉴 추천해줘\"\n",
    "start = time.time();llm.invoke(query);end = time.time()\n",
    "print(f\"첫 번째 호출 시간: {end - start}\")\n",
    "\n",
    "start = time.time();llm.invoke(query);end = time.time()\n",
    "print(f\"두 번째 호출 시간: {end - start}\")"
   ]
  },
  {
   "cell_type": "code",
   "execution_count": 14,
   "id": "85633891",
   "metadata": {},
   "outputs": [
    {
     "name": "stdout",
     "output_type": "stream",
     "text": [
      "첫 번째 호출 시간: 1.2163994312286377\n",
      "응답1: 왜 바나나는 병원에 갔을까요?\n",
      "\n",
      "너무 쪼그려져서요! 🍌\n",
      "####################################################################################################\n",
      "응답2: 왜 바나나는 병원에 갔을까요?\n",
      "\n",
      "너무 쪼그려져서요! 🍌\n",
      "두 번째 호출 시간: 0.0023567676544189453\n"
     ]
    }
   ],
   "source": [
    "# SQLiteCache 사용(디스크기반 캐시)\n",
    "import os, time \n",
    "from langchain_community.cache import SQLiteCache\n",
    "# 기존 캐시 DB 파일이 있다면 삭제(.langchain.db 초기화) # 프로레스를 죽이고 삭제 해야한다 \n",
    "# if os.path.exists('.langchain.db'):\n",
    "#     os.remove('.langchain.db')\n",
    "\n",
    "# SQLiteCache 캐시 설정(지정한 경로의 DB 파일을 생성 / 사용)\n",
    "set_llm_cache(SQLiteCache(database_path='.langchain.db')) # .langchain.db있으면 사용 없으면 생성\n",
    "\n",
    "# 동일한 query를 두번 호출해서 결과와 시간을 비교\n",
    "query = \"썰렁한 유머 하나 알려줘\"\n",
    "# 첫번째 호출(캐시에 없으면 api 호출 발생)\n",
    "start = time.time();result1 =llm.invoke(query);end = time.time()\n",
    "print(f\"첫 번째 호출 시간: {end - start}\")\n",
    "print(\"응답1:\", result1.content)\n",
    "print('#'*100)\n",
    "# 두번째 호출(동일한 query, 캐시를 확인하고 동일 질문이면 api 미호출)\n",
    "start = time.time();result2 = llm.invoke(query);end = time.time() # query가 한글자라도 다르면 캐시 미사용한다 # 블로그\n",
    "print(\"응답2:\", result2.content)\n",
    "print(f\"두 번째 호출 시간: {end - start}\")\n"
   ]
  },
  {
   "cell_type": "code",
   "execution_count": null,
   "id": "2008bace",
   "metadata": {},
   "outputs": [],
   "source": []
  }
 ],
 "metadata": {
  "kernelspec": {
   "display_name": "LLM",
   "language": "python",
   "name": "python3"
  },
  "language_info": {
   "codemirror_mode": {
    "name": "ipython",
    "version": 3
   },
   "file_extension": ".py",
   "mimetype": "text/x-python",
   "name": "python",
   "nbconvert_exporter": "python",
   "pygments_lexer": "ipython3",
   "version": "3.10.16"
  }
 },
 "nbformat": 4,
 "nbformat_minor": 5
}
