{
 "cells": [
  {
   "cell_type": "markdown",
   "id": "bcbc231e",
   "metadata": {},
   "source": [
    "LangChain 프롬프트 템플릿\n",
    "```\n",
    "LLM 프롬프트를 동적으로 구성하고 재사용할 수 있도록 해주는 도구\n",
    "    단일입력 : 하나의 변수로 구성된 프롬프트 템플릿\n",
    "    다중립력 : 둘 이상의 변수를 사용한느 템플릿\n",
    "    ChatpromptTemplate 역할 기반 프롬프트 : 시스템/사용자 역할별 프롬프트 구성 .from_message()\n",
    "    PartialPromptTemplate 활용 : 프롬프트 일부를 미리 고정하고 부분포멧칭을 사용(ex 시스템 메시지는 고정,,)\n",
    "    프롬프트 출력 및 체인 실행 : LCEL\n",
    "    프롬프트 작성 팁: 주의사항 및 보범사례\n",
    "```"
   ]
  },
  {
   "cell_type": "code",
   "execution_count": 1,
   "id": "400ac204",
   "metadata": {},
   "outputs": [
    {
     "name": "stdout",
     "output_type": "stream",
     "text": [
      "Requirement already satisfied: langchain-openai in c:\\users\\playdata\\appdata\\local\\miniconda3\\envs\\llm\\lib\\site-packages (0.3.18)\n",
      "Requirement already satisfied: langchain-community in c:\\users\\playdata\\appdata\\local\\miniconda3\\envs\\llm\\lib\\site-packages (0.3.24)\n",
      "Requirement already satisfied: python-dotenv in c:\\users\\playdata\\appdata\\local\\miniconda3\\envs\\llm\\lib\\site-packages (1.1.0)\n",
      "Requirement already satisfied: openai in c:\\users\\playdata\\appdata\\local\\miniconda3\\envs\\llm\\lib\\site-packages (1.77.0)\n",
      "Requirement already satisfied: langchain-core<1.0.0,>=0.3.61 in c:\\users\\playdata\\appdata\\local\\miniconda3\\envs\\llm\\lib\\site-packages (from langchain-openai) (0.3.61)\n",
      "Requirement already satisfied: tiktoken<1,>=0.7 in c:\\users\\playdata\\appdata\\local\\miniconda3\\envs\\llm\\lib\\site-packages (from langchain-openai) (0.9.0)\n",
      "Requirement already satisfied: anyio<5,>=3.5.0 in c:\\users\\playdata\\appdata\\local\\miniconda3\\envs\\llm\\lib\\site-packages (from openai) (4.7.0)\n",
      "Requirement already satisfied: distro<2,>=1.7.0 in c:\\users\\playdata\\appdata\\local\\miniconda3\\envs\\llm\\lib\\site-packages (from openai) (1.9.0)\n",
      "Requirement already satisfied: httpx<1,>=0.23.0 in c:\\users\\playdata\\appdata\\local\\miniconda3\\envs\\llm\\lib\\site-packages (from openai) (0.28.1)\n",
      "Requirement already satisfied: jiter<1,>=0.4.0 in c:\\users\\playdata\\appdata\\local\\miniconda3\\envs\\llm\\lib\\site-packages (from openai) (0.6.1)\n",
      "Requirement already satisfied: pydantic<3,>=1.9.0 in c:\\users\\playdata\\appdata\\local\\miniconda3\\envs\\llm\\lib\\site-packages (from openai) (2.10.3)\n",
      "Requirement already satisfied: sniffio in c:\\users\\playdata\\appdata\\local\\miniconda3\\envs\\llm\\lib\\site-packages (from openai) (1.3.0)\n",
      "Requirement already satisfied: tqdm>4 in c:\\users\\playdata\\appdata\\local\\miniconda3\\envs\\llm\\lib\\site-packages (from openai) (4.67.1)\n",
      "Requirement already satisfied: typing-extensions<5,>=4.11 in c:\\users\\playdata\\appdata\\local\\miniconda3\\envs\\llm\\lib\\site-packages (from openai) (4.12.2)\n",
      "Requirement already satisfied: exceptiongroup>=1.0.2 in c:\\users\\playdata\\appdata\\local\\miniconda3\\envs\\llm\\lib\\site-packages (from anyio<5,>=3.5.0->openai) (1.3.0)\n",
      "Requirement already satisfied: idna>=2.8 in c:\\users\\playdata\\appdata\\local\\miniconda3\\envs\\llm\\lib\\site-packages (from anyio<5,>=3.5.0->openai) (3.7)\n",
      "Requirement already satisfied: certifi in c:\\users\\playdata\\appdata\\local\\miniconda3\\envs\\llm\\lib\\site-packages (from httpx<1,>=0.23.0->openai) (2025.4.26)\n",
      "Requirement already satisfied: httpcore==1.* in c:\\users\\playdata\\appdata\\local\\miniconda3\\envs\\llm\\lib\\site-packages (from httpx<1,>=0.23.0->openai) (1.0.2)\n",
      "Requirement already satisfied: h11<0.15,>=0.13 in c:\\users\\playdata\\appdata\\local\\miniconda3\\envs\\llm\\lib\\site-packages (from httpcore==1.*->httpx<1,>=0.23.0->openai) (0.14.0)\n",
      "Requirement already satisfied: langsmith<0.4,>=0.1.126 in c:\\users\\playdata\\appdata\\local\\miniconda3\\envs\\llm\\lib\\site-packages (from langchain-core<1.0.0,>=0.3.61->langchain-openai) (0.3.42)\n",
      "Requirement already satisfied: tenacity!=8.4.0,<10.0.0,>=8.1.0 in c:\\users\\playdata\\appdata\\local\\miniconda3\\envs\\llm\\lib\\site-packages (from langchain-core<1.0.0,>=0.3.61->langchain-openai) (9.1.2)\n",
      "Requirement already satisfied: jsonpatch<2.0,>=1.33 in c:\\users\\playdata\\appdata\\local\\miniconda3\\envs\\llm\\lib\\site-packages (from langchain-core<1.0.0,>=0.3.61->langchain-openai) (1.33)\n",
      "Requirement already satisfied: PyYAML>=5.3 in c:\\users\\playdata\\appdata\\local\\miniconda3\\envs\\llm\\lib\\site-packages (from langchain-core<1.0.0,>=0.3.61->langchain-openai) (6.0.2)\n",
      "Requirement already satisfied: packaging<25,>=23.2 in c:\\users\\playdata\\appdata\\local\\miniconda3\\envs\\llm\\lib\\site-packages (from langchain-core<1.0.0,>=0.3.61->langchain-openai) (24.2)\n",
      "Requirement already satisfied: jsonpointer>=1.9 in c:\\users\\playdata\\appdata\\local\\miniconda3\\envs\\llm\\lib\\site-packages (from jsonpatch<2.0,>=1.33->langchain-core<1.0.0,>=0.3.61->langchain-openai) (3.0.0)\n",
      "Requirement already satisfied: orjson<4.0.0,>=3.9.14 in c:\\users\\playdata\\appdata\\local\\miniconda3\\envs\\llm\\lib\\site-packages (from langsmith<0.4,>=0.1.126->langchain-core<1.0.0,>=0.3.61->langchain-openai) (3.10.18)\n",
      "Requirement already satisfied: requests<3,>=2 in c:\\users\\playdata\\appdata\\local\\miniconda3\\envs\\llm\\lib\\site-packages (from langsmith<0.4,>=0.1.126->langchain-core<1.0.0,>=0.3.61->langchain-openai) (2.32.3)\n",
      "Requirement already satisfied: requests-toolbelt<2.0.0,>=1.0.0 in c:\\users\\playdata\\appdata\\local\\miniconda3\\envs\\llm\\lib\\site-packages (from langsmith<0.4,>=0.1.126->langchain-core<1.0.0,>=0.3.61->langchain-openai) (1.0.0)\n",
      "Requirement already satisfied: zstandard<0.24.0,>=0.23.0 in c:\\users\\playdata\\appdata\\local\\miniconda3\\envs\\llm\\lib\\site-packages (from langsmith<0.4,>=0.1.126->langchain-core<1.0.0,>=0.3.61->langchain-openai) (0.23.0)\n",
      "Requirement already satisfied: annotated-types>=0.6.0 in c:\\users\\playdata\\appdata\\local\\miniconda3\\envs\\llm\\lib\\site-packages (from pydantic<3,>=1.9.0->openai) (0.6.0)\n",
      "Requirement already satisfied: pydantic-core==2.27.1 in c:\\users\\playdata\\appdata\\local\\miniconda3\\envs\\llm\\lib\\site-packages (from pydantic<3,>=1.9.0->openai) (2.27.1)\n",
      "Requirement already satisfied: charset-normalizer<4,>=2 in c:\\users\\playdata\\appdata\\local\\miniconda3\\envs\\llm\\lib\\site-packages (from requests<3,>=2->langsmith<0.4,>=0.1.126->langchain-core<1.0.0,>=0.3.61->langchain-openai) (3.3.2)\n",
      "Requirement already satisfied: urllib3<3,>=1.21.1 in c:\\users\\playdata\\appdata\\local\\miniconda3\\envs\\llm\\lib\\site-packages (from requests<3,>=2->langsmith<0.4,>=0.1.126->langchain-core<1.0.0,>=0.3.61->langchain-openai) (2.3.0)\n",
      "Requirement already satisfied: regex>=2022.1.18 in c:\\users\\playdata\\appdata\\local\\miniconda3\\envs\\llm\\lib\\site-packages (from tiktoken<1,>=0.7->langchain-openai) (2024.11.6)\n",
      "Requirement already satisfied: langchain<1.0.0,>=0.3.25 in c:\\users\\playdata\\appdata\\local\\miniconda3\\envs\\llm\\lib\\site-packages (from langchain-community) (0.3.25)\n",
      "Requirement already satisfied: SQLAlchemy<3,>=1.4 in c:\\users\\playdata\\appdata\\local\\miniconda3\\envs\\llm\\lib\\site-packages (from langchain-community) (2.0.41)\n",
      "Requirement already satisfied: aiohttp<4.0.0,>=3.8.3 in c:\\users\\playdata\\appdata\\local\\miniconda3\\envs\\llm\\lib\\site-packages (from langchain-community) (3.11.18)\n",
      "Requirement already satisfied: dataclasses-json<0.7,>=0.5.7 in c:\\users\\playdata\\appdata\\local\\miniconda3\\envs\\llm\\lib\\site-packages (from langchain-community) (0.6.7)\n",
      "Requirement already satisfied: pydantic-settings<3.0.0,>=2.4.0 in c:\\users\\playdata\\appdata\\local\\miniconda3\\envs\\llm\\lib\\site-packages (from langchain-community) (2.9.1)\n",
      "Requirement already satisfied: httpx-sse<1.0.0,>=0.4.0 in c:\\users\\playdata\\appdata\\local\\miniconda3\\envs\\llm\\lib\\site-packages (from langchain-community) (0.4.0)\n",
      "Requirement already satisfied: numpy>=1.26.2 in c:\\users\\playdata\\appdata\\local\\miniconda3\\envs\\llm\\lib\\site-packages (from langchain-community) (2.2.5)\n",
      "Requirement already satisfied: aiohappyeyeballs>=2.3.0 in c:\\users\\playdata\\appdata\\local\\miniconda3\\envs\\llm\\lib\\site-packages (from aiohttp<4.0.0,>=3.8.3->langchain-community) (2.6.1)\n",
      "Requirement already satisfied: aiosignal>=1.1.2 in c:\\users\\playdata\\appdata\\local\\miniconda3\\envs\\llm\\lib\\site-packages (from aiohttp<4.0.0,>=3.8.3->langchain-community) (1.3.2)\n",
      "Requirement already satisfied: async-timeout<6.0,>=4.0 in c:\\users\\playdata\\appdata\\local\\miniconda3\\envs\\llm\\lib\\site-packages (from aiohttp<4.0.0,>=3.8.3->langchain-community) (4.0.3)\n",
      "Requirement already satisfied: attrs>=17.3.0 in c:\\users\\playdata\\appdata\\local\\miniconda3\\envs\\llm\\lib\\site-packages (from aiohttp<4.0.0,>=3.8.3->langchain-community) (25.3.0)\n",
      "Requirement already satisfied: frozenlist>=1.1.1 in c:\\users\\playdata\\appdata\\local\\miniconda3\\envs\\llm\\lib\\site-packages (from aiohttp<4.0.0,>=3.8.3->langchain-community) (1.6.0)\n",
      "Requirement already satisfied: multidict<7.0,>=4.5 in c:\\users\\playdata\\appdata\\local\\miniconda3\\envs\\llm\\lib\\site-packages (from aiohttp<4.0.0,>=3.8.3->langchain-community) (6.4.3)\n",
      "Requirement already satisfied: propcache>=0.2.0 in c:\\users\\playdata\\appdata\\local\\miniconda3\\envs\\llm\\lib\\site-packages (from aiohttp<4.0.0,>=3.8.3->langchain-community) (0.3.1)\n",
      "Requirement already satisfied: yarl<2.0,>=1.17.0 in c:\\users\\playdata\\appdata\\local\\miniconda3\\envs\\llm\\lib\\site-packages (from aiohttp<4.0.0,>=3.8.3->langchain-community) (1.20.0)\n",
      "Requirement already satisfied: marshmallow<4.0.0,>=3.18.0 in c:\\users\\playdata\\appdata\\local\\miniconda3\\envs\\llm\\lib\\site-packages (from dataclasses-json<0.7,>=0.5.7->langchain-community) (3.26.1)\n",
      "Requirement already satisfied: typing-inspect<1,>=0.4.0 in c:\\users\\playdata\\appdata\\local\\miniconda3\\envs\\llm\\lib\\site-packages (from dataclasses-json<0.7,>=0.5.7->langchain-community) (0.9.0)\n",
      "Requirement already satisfied: langchain-text-splitters<1.0.0,>=0.3.8 in c:\\users\\playdata\\appdata\\local\\miniconda3\\envs\\llm\\lib\\site-packages (from langchain<1.0.0,>=0.3.25->langchain-community) (0.3.8)\n",
      "Requirement already satisfied: typing-inspection>=0.4.0 in c:\\users\\playdata\\appdata\\local\\miniconda3\\envs\\llm\\lib\\site-packages (from pydantic-settings<3.0.0,>=2.4.0->langchain-community) (0.4.1)\n",
      "Requirement already satisfied: greenlet>=1 in c:\\users\\playdata\\appdata\\local\\miniconda3\\envs\\llm\\lib\\site-packages (from SQLAlchemy<3,>=1.4->langchain-community) (3.2.2)\n",
      "Requirement already satisfied: mypy-extensions>=0.3.0 in c:\\users\\playdata\\appdata\\local\\miniconda3\\envs\\llm\\lib\\site-packages (from typing-inspect<1,>=0.4.0->dataclasses-json<0.7,>=0.5.7->langchain-community) (1.1.0)\n",
      "Requirement already satisfied: colorama in c:\\users\\playdata\\appdata\\local\\miniconda3\\envs\\llm\\lib\\site-packages (from tqdm>4->openai) (0.4.6)\n",
      "Note: you may need to restart the kernel to use updated packages.\n"
     ]
    }
   ],
   "source": [
    "# 환경설정\n",
    "%pip install langchain-openai langchain-community python-dotenv openai"
   ]
  },
  {
   "cell_type": "code",
   "execution_count": 2,
   "id": "85550419",
   "metadata": {},
   "outputs": [
    {
     "data": {
      "text/plain": [
       "True"
      ]
     },
     "execution_count": 2,
     "metadata": {},
     "output_type": "execute_result"
    }
   ],
   "source": [
    "from dotenv import load_dotenv\n",
    "load_dotenv()"
   ]
  },
  {
   "cell_type": "code",
   "execution_count": 3,
   "id": "13f92dbe",
   "metadata": {},
   "outputs": [
    {
     "name": "stdout",
     "output_type": "stream",
     "text": [
      "당신은 최고 수준의 마케팅 카피라이터 입니다.\n",
      "아래 제품의 매력적인 홍보문구를 100자 내외로 작성해 주세요\n",
      "\n",
      "제품명 : 이클립스\n"
     ]
    }
   ],
   "source": [
    "# 단일 프롬프트 사용\n",
    "from langchain.prompts import PromptTemplate\n",
    "# 템플릿 문자열 정의\n",
    "template_str = (\n",
    "    \"당신은 최고 수준의 마케팅 카피라이터 입니다.\\n\"\n",
    "    \"아래 제품의 매력적인 홍보문구를 100자 내외로 작성해 주세요\\n\\n\"\n",
    "    \"제품명 : {product_name}\"\n",
    ")\n",
    "# PromptTemplate 객체 생성\n",
    "product_prompt = PromptTemplate.from_template(template_str)\n",
    "# 템플릿에 값 채우기\n",
    "formatted_prompt = product_prompt.format(product_name=\"이클립스\")\n",
    "print(formatted_prompt)"
   ]
  },
  {
   "cell_type": "code",
   "execution_count": 5,
   "id": "cc8f9e8c",
   "metadata": {},
   "outputs": [
    {
     "name": "stdout",
     "output_type": "stream",
     "text": [
      "\"이클립스, 당신의 일상에 빛나는 변화를! 매일의 순간을 특별하게 만들어주는 혁신적인 경험을 만나보세요.\"\n"
     ]
    }
   ],
   "source": [
    "# 프롬프트 | llm -> invoke\n",
    "from langchain.chat_models import ChatOpenAI\n",
    "llm = ChatOpenAI(model_name=\"gpt-4o-mini\", temperature=0)\n",
    "# Runnable 객체 생성 LCEL\n",
    "chain = product_prompt | llm\n",
    "result = chain.invoke({\"product_name\": \"이클립스\"})\n",
    "print(result.content)\n"
   ]
  },
  {
   "cell_type": "code",
   "execution_count": 6,
   "id": "40636955",
   "metadata": {},
   "outputs": [
    {
     "name": "stdout",
     "output_type": "stream",
     "text": [
      "아래는 뉴스 기사 제목과 키워드 입니다다.\n",
      "이 정보를 바탕으로 한 문단으로 구성된 간략한 요약문을 작성하세요요\n",
      "\n",
      "제목 : 인공지능 기술의 발전과 미래\n",
      "키워드 : 머신러닝, 딥러닝, LLM, 산업 혁신\n"
     ]
    }
   ],
   "source": [
    "# 다중 입력\n",
    "# 다중입력 템플릿 문자열 정의\n",
    "multi_template_str = (\n",
    "    \"아래는 뉴스 기사 제목과 키워드 입니다다.\\n\"\n",
    "    \"이 정보를 바탕으로 한 문단으로 구성된 간략한 요약문을 작성하세요요\\n\\n\"\n",
    "    \"제목 : {title}\\n\"\n",
    "    \"키워드 : {keywords}\"\n",
    ")\n",
    "# 프롬프트 템플릿 작성\n",
    "summary_prompt = PromptTemplate(template=multi_template_str,input_variables=[\"title\", \"keywords\"])\n",
    "# 포멧팅을 통해 프롬프트 값 확인\n",
    "sample_title = \"인공지능 기술의 발전과 미래\"\n",
    "sample_keywords = \"머신러닝, 딥러닝, LLM, 산업 혁신\"\n",
    "formatted_summary_prompt = summary_prompt.format(title=sample_title, keywords=sample_keywords)\n",
    "print(formatted_summary_prompt)"
   ]
  },
  {
   "cell_type": "code",
   "execution_count": 7,
   "id": "0dce8d03",
   "metadata": {},
   "outputs": [
    {
     "data": {
      "text/plain": [
       "'인공지능 기술의 발전은 머신러닝과 딥러닝의 혁신을 통해 가속화되고 있으며, 특히 대규모 언어 모델(LLM)의 등장으로 다양한 산업 분야에서의 혁신이 이루어지고 있습니다. 이러한 기술들은 데이터 분석, 자동화, 고객 서비스 개선 등에서 중요한 역할을 하며, 기업들이 경쟁력을 유지하고 새로운 비즈니스 기회를 창출하는 데 기여하고 있습니다. 앞으로 인공지능 기술은 더욱 발전하여 우리의 삶과 산업 구조에 큰 변화를 가져올 것으로 기대됩니다.'"
      ]
     },
     "execution_count": 7,
     "metadata": {},
     "output_type": "execute_result"
    }
   ],
   "source": [
    "# LCEL 출력\n",
    "from langchain_core.output_parsers import StrOutputParser\n",
    "parser = StrOutputParser()\n",
    "result_summary = (summary_prompt | llm | parser).invoke({\n",
    "    \"title\": sample_title,\n",
    "    \"keywords\": sample_keywords\n",
    "})\n",
    "result_summary"
   ]
  },
  {
   "cell_type": "code",
   "execution_count": 8,
   "id": "9a935c12",
   "metadata": {},
   "outputs": [],
   "source": [
    "# ChatPromptTemplate과 역할 기반 프롬프트\n",
    "# 시스템/사용자/어시스턴스 역할(role)\n",
    "# 시스템 메시지 ㅣ 모델의 동작을 지시\n",
    "# 사용자 메시지 ㅣ 실제 사용자의 입력\n",
    "# 어시스턴트 메시지 : 이전 모델이 응답한 내용이 있으면 대화맥락유지를 위해 활용 "
   ]
  },
  {
   "cell_type": "code",
   "execution_count": 11,
   "id": "fe144491",
   "metadata": {},
   "outputs": [
    {
     "name": "stdout",
     "output_type": "stream",
     "text": [
      "System: 당신은 python 분야의 뛰어난 전문가이자 조언자 입니다자용자의 프로그래밍 질문에 대해 친절하고 이해하기 쉽게 답변해 주세요\n",
      "Human: 파이썬의 클래스에 대해서 설명해주세요\n",
      "파이썬의 클래스는 객체 지향 프로그래밍(OOP)의 기본 개념 중 하나로, 객체를 생성하기 위한 청사진(또는 템플릿)입니다. 클래스를 사용하면 관련된 데이터와 기능을 하나의 단위로 묶을 수 있습니다. 이를 통해 코드의 재사용성과 유지보수성을 높일 수 있습니다.\n",
      "\n",
      "### 클래스의 기본 구조\n",
      "\n",
      "클래스를 정의하려면 `class` 키워드를 사용합니다. 다음은 간단한 클래스의 예입니다:\n",
      "\n",
      "```python\n",
      "class Dog:\n",
      "    # 생성자 메서드\n",
      "    def __init__(self, name, age):\n",
      "        self.name = name  # 인스턴스 변수\n",
      "        self.age = age    # 인스턴스 변수\n",
      "\n",
      "    # 메서드\n",
      "    def bark(self):\n",
      "        return f\"{self.name} says Woof!\"\n",
      "\n",
      "# 클래스의 인스턴스 생성\n",
      "my_dog = Dog(\"Buddy\", 3)\n",
      "\n",
      "# 메서드 호출\n",
      "print(my_dog.bark())  # 출력: Buddy says Woof!\n",
      "```\n",
      "\n",
      "### 주요 개념\n",
      "\n",
      "1. **생성자 (`__init__` 메서드)**:\n",
      "   - 클래스의 인스턴스가 생성될 때 호출되는 특별한 메서드입니다.\n",
      "   - 인스턴스 변수를 초기화하는 데 사용됩니다.\n",
      "\n",
      "2. **인스턴스 변수**:\n",
      "   - 각 인스턴스(객체)마다 고유한 데이터를 저장하는 변수입니다.\n",
      "   - `self` 키워드를 사용하여 인스턴스 변수를 정의합니다.\n",
      "\n",
      "3. **메서드**:\n",
      "   - 클래스 내에서 정의된 함수로, 클래스의 인스턴스에서 호출할 수 있습니다.\n",
      "   - 메서드는 일반적으로 인스턴스 변수에 접근하거나 조작하는 데 사용됩니다.\n",
      "\n",
      "4. **인스턴스**:\n",
      "   - 클래스를 기반으로 생성된 객체입니다. 각 인스턴스는 클래스의 속성과 메서드를 가집니다.\n",
      "\n",
      "5. **상속**:\n",
      "   - 클래스는 다른 클래스로부터 속성과 메서드를 상속받을 수 있습니다. 이를 통해 코드의 재사용성을 높일 수 있습니다.\n",
      "\n",
      "```python\n",
      "class Puppy(Dog):  # Dog 클래스를 상속받음\n",
      "    def play(self):\n",
      "        return f\"{self.name} is playing!\"\n",
      "\n",
      "my_puppy = Puppy(\"Charlie\", 1)\n",
      "print(my_puppy.bark())  # 출력: Charlie says Woof!\n",
      "print(my_puppy.play())  # 출력: Charlie is playing!\n",
      "```\n",
      "\n",
      "### 요약\n",
      "\n",
      "클래스는 객체 지향 프로그래밍의 핵심 요소로, 데이터와 기능을 하나의 단위로 묶어줍니다. 이를 통해 코드의 구조를 더 명확하게 하고, 재사용성을 높이며, 유지보수를 용이하게 합니다. 클래스와 객체의 개념을 잘 이해하면 파이썬 프로그래밍에서 더 나은 코드를 작성할 수 있습니다.\n"
     ]
    }
   ],
   "source": [
    "from langchain.prompts import ChatPromptTemplate\n",
    "system_message = (\"당신은 python 분야의 뛰어난 전문가이자 조언자 입니다\"\n",
    "                  \"자용자의 프로그래밍 질문에 대해 친절하고 이해하기 쉽게 답변해 주세요\")\n",
    "user_message = \"{question}\"\n",
    "chat_prompt = ChatPromptTemplate.from_messages([\n",
    "    (\"system\", system_message),\n",
    "    (\"user\", user_message)\n",
    "])\n",
    "# 템플릿을 이용해서 문장을 완성해 보세요\n",
    "sample_question = \"파이썬의 클래스에 대해서 설명해주세요\"\n",
    "formatted_chat_prompt = chat_prompt.format(question=sample_question)\n",
    "print(formatted_chat_prompt)\n",
    "# 파이프라인을 이용해서 llm 호출 및 출력\n",
    "answer = (chat_prompt | llm | parser).invoke({\"question\": sample_question})\n",
    "print(answer)\n",
    "\n"
   ]
  },
  {
   "cell_type": "code",
   "execution_count": 17,
   "id": "41b97df6",
   "metadata": {},
   "outputs": [],
   "source": [
    "# ParitalPromptTemplate : 템플릿의 일부를 부분적으로 채운 새로운 탬플릿\n",
    "from langchain.prompts import SystemMessagePromptTemplate, HumanMessagePromptTemplate\n",
    "role_system_template = '당신은 {role} 분야의 전문 지식인 입니다. 가능한 자세히 답변해 주세요'\n",
    "system_prompt = SystemMessagePromptTemplate.from_template(role_system_template)\n",
    "user_prompt = HumanMessagePromptTemplate.from_template(\"{question}\")\n",
    "\n",
    "# chatprompttemplate를 생성\n",
    "base_chat_prompt = ChatPromptTemplate.from_messages([system_prompt,user_prompt])\n",
    "partial_chat_prompt = base_chat_prompt.partial(role=\"주식 투자\")"
   ]
  },
  {
   "cell_type": "code",
   "execution_count": 18,
   "id": "d3d2f217",
   "metadata": {},
   "outputs": [
    {
     "name": "stdout",
     "output_type": "stream",
     "text": [
      "[SystemMessage(content='당신은 주식 투자 분야의 전문 지식인 입니다. 가능한 자세히 답변해 주세요', additional_kwargs={}, response_metadata={}), HumanMessage(content='현재 2025년 5월 시장 상황에서 삼성전자 주식 전망은?', additional_kwargs={}, response_metadata={})]\n"
     ]
    }
   ],
   "source": [
    "# partial로 생성된 프롬프트에 질문만 채워 프롬프트 구성\n",
    "sample_question = \"현재 2025년 5월 시장 상황에서 삼성전자 주식 전망은?\"\n",
    "message = partial_chat_prompt.format_messages(question=sample_question)\n",
    "print(message)"
   ]
  },
  {
   "cell_type": "code",
   "execution_count": 19,
   "id": "3470ff57",
   "metadata": {},
   "outputs": [
    {
     "name": "stdout",
     "output_type": "stream",
     "text": [
      "2025년 5월의 삼성전자 주식 전망을 평가하기 위해서는 여러 가지 요소를 고려해야 합니다. 다음은 삼성전자의 주식 전망에 영향을 미칠 수 있는 주요 요인들입니다.\n",
      "\n",
      "1. **반도체 시장 동향**: 삼성전자는 세계 최대의 반도체 제조업체 중 하나입니다. 반도체 수요는 AI, IoT, 5G 등 다양한 기술 발전에 따라 증가하고 있습니다. 2025년에는 이러한 기술들이 더욱 발전할 것으로 예상되며, 이에 따라 반도체 수요가 증가할 가능성이 높습니다. 그러나 반도체 시장은 경기 사이클에 민감하므로, 글로벌 경제 상황에 따라 변동성이 클 수 있습니다.\n",
      "\n",
      "2. **스마트폰 및 가전제품 판매**: 삼성전자는 스마트폰과 가전제품에서도 강력한 입지를 가지고 있습니다. 2025년에는 새로운 모델과 혁신적인 기술이 출시될 가능성이 있으며, 이는 소비자 수요에 긍정적인 영향을 미칠 수 있습니다. 특히, 폴더블 스마트폰과 같은 혁신적인 제품이 시장에서 성공을 거두면 주가에 긍정적인 영향을 미칠 수 있습니다.\n",
      "\n",
      "3. **글로벌 경제 상황**: 글로벌 경제의 성장률, 금리, 인플레이션 등은 삼성전자의 주가에 큰 영향을 미칠 수 있습니다. 경제가 안정적이고 성장세를 보인다면 소비자 지출이 증가하고, 이는 삼성전자의 매출 증가로 이어질 수 있습니다.\n",
      "\n",
      "4. **경쟁 상황**: 삼성전자는 애플, 화웨이, TSMC 등과 같은 강력한 경쟁자들과 경쟁하고 있습니다. 경쟁사의 기술 발전이나 시장 점유율 변화는 삼성전자의 주가에 영향을 미칠 수 있습니다.\n",
      "\n",
      "5. **정치적 및 규제 환경**: 반도체 산업은 국가 간의 정치적 긴장이나 규제 변화에 민감합니다. 예를 들어, 미국과 중국 간의 무역 갈등이나 반도체 관련 규제는 삼성전자의 사업에 영향을 미칠 수 있습니다.\n",
      "\n",
      "6. **ESG(환경, 사회, 지배구조) 경영**: 최근 투자자들은 ESG 요소를 중요하게 고려하고 있습니다. 삼성전자가 지속 가능한 경영을 강화하고 사회적 책임을 다하는 모습을 보인다면, 이는 긍정적인 투자 심리를 유도할 수 있습니다.\n",
      "\n",
      "결론적으로, 삼성전자의 주식 전망은 긍정적일 수 있지만, 여러 외부 요인에 따라 변동성이 클 수 있습니다. 따라서 투자 결정을 내리기 전에 충분한 시장 조사와 분석이 필요합니다. 전문가의 의견이나 최신 시장 동향을 참고하는 것도 좋은 방법입니다.\n"
     ]
    }
   ],
   "source": [
    "# LCEL - invoke\n",
    "answer = (partial_chat_prompt | llm | parser).invoke({\"question\": sample_question})\n",
    "print(answer)"
   ]
  }
 ],
 "metadata": {
  "kernelspec": {
   "display_name": "LLM",
   "language": "python",
   "name": "python3"
  },
  "language_info": {
   "codemirror_mode": {
    "name": "ipython",
    "version": 3
   },
   "file_extension": ".py",
   "mimetype": "text/x-python",
   "name": "python",
   "nbconvert_exporter": "python",
   "pygments_lexer": "ipython3",
   "version": "3.10.16"
  }
 },
 "nbformat": 4,
 "nbformat_minor": 5
}
